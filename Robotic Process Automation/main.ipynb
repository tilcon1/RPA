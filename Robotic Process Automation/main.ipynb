{
 "cells": [
  {
   "cell_type": "code",
   "execution_count": 5,
   "metadata": {},
   "outputs": [
    {
     "name": "stdout",
     "output_type": "stream",
     "text": [
      "Requirement already satisfied: pyautogui in c:\\users\\tilco\\appdata\\roaming\\python\\python310\\site-packages (0.9.53)\n",
      "Requirement already satisfied: pymsgbox in c:\\users\\tilco\\appdata\\roaming\\python\\python310\\site-packages (from pyautogui) (1.0.9)\n",
      "Requirement already satisfied: PyTweening>=1.0.1 in c:\\users\\tilco\\appdata\\roaming\\python\\python310\\site-packages (from pyautogui) (1.0.4)\n",
      "Requirement already satisfied: pyscreeze>=0.1.21 in c:\\users\\tilco\\appdata\\roaming\\python\\python310\\site-packages (from pyautogui) (0.1.28)\n",
      "Requirement already satisfied: pygetwindow>=0.0.5 in c:\\users\\tilco\\appdata\\roaming\\python\\python310\\site-packages (from pyautogui) (0.0.9)\n",
      "Requirement already satisfied: mouseinfo in c:\\users\\tilco\\appdata\\roaming\\python\\python310\\site-packages (from pyautogui) (0.1.3)\n",
      "Requirement already satisfied: pyrect in c:\\users\\tilco\\appdata\\roaming\\python\\python310\\site-packages (from pygetwindow>=0.0.5->pyautogui) (0.1.4)\n",
      "Requirement already satisfied: pyperclip in c:\\users\\tilco\\appdata\\roaming\\python\\python310\\site-packages (from mouseinfo->pyautogui) (1.8.2)\n",
      "Note: you may need to restart the kernel to use updated packages.\n"
     ]
    }
   ],
   "source": [
    "%pip install pyautogui\n",
    "\n",
    "import functs as fj\n",
    "\n",
    "fj.greetUser()"
   ]
  }
 ],
 "metadata": {
  "kernelspec": {
   "display_name": "Python 3",
   "language": "python",
   "name": "python3"
  },
  "language_info": {
   "codemirror_mode": {
    "name": "ipython",
    "version": 3
   },
   "file_extension": ".py",
   "mimetype": "text/x-python",
   "name": "python",
   "nbconvert_exporter": "python",
   "pygments_lexer": "ipython3",
   "version": "3.10.6"
  },
  "orig_nbformat": 4,
  "vscode": {
   "interpreter": {
    "hash": "9cd46fc2d1e705201224ab90ead2e7e879ac7c90fc6c54ba1fa162a63aefef55"
   }
  }
 },
 "nbformat": 4,
 "nbformat_minor": 2
}
